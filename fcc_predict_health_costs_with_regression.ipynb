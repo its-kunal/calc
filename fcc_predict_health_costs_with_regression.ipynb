{
  "cells": [
    {
      "cell_type": "code",
      "execution_count": null,
      "metadata": {
        "id": "1rRo8oNqZ-Rj"
      },
      "outputs": [],
      "source": [
        "# Import libraries. You may or may not use all of these.\n",
        "!pip install -q git+https://github.com/tensorflow/docs\n",
        "import matplotlib.pyplot as plt\n",
        "import numpy as np\n",
        "import pandas as pd\n",
        "\n",
        "try:\n",
        "  # %tensorflow_version only exists in Colab.\n",
        "  %tensorflow_version 2.x\n",
        "except Exception:\n",
        "  pass\n",
        "import tensorflow as tf\n",
        "\n",
        "from tensorflow import keras\n",
        "from tensorflow.keras import layers\n",
        "\n",
        "import tensorflow_docs as tfdocs\n",
        "import tensorflow_docs.plots\n",
        "import tensorflow_docs.modeling"
      ]
    },
    {
      "cell_type": "code",
      "execution_count": null,
      "metadata": {
        "id": "CiX2FI4gZtTt"
      },
      "outputs": [],
      "source": [
        "# Import data\n",
        "!wget https://cdn.freecodecamp.org/project-data/health-costs/insurance.csv\n",
        "dataset = pd.read_csv('insurance.csv')\n",
        "dataset.tail()"
      ]
    },
    {
      "cell_type": "code",
      "execution_count": null,
      "metadata": {
        "id": "LcopvQh3X-kX"
      },
      "outputs": [],
      "source": [
        "# Analyse dataset\n",
        "display(dataset.sample(5))\n",
        "display(dataset.info())\n",
        "display(dataset.describe())"
      ]
    },
    {
      "cell_type": "code",
      "source": [
        "# Dropping duplicates\n",
        "dataset = dataset.drop_duplicates()"
      ],
      "metadata": {
        "id": "kD1WTZFqzxjv"
      },
      "execution_count": null,
      "outputs": []
    },
    {
      "cell_type": "code",
      "source": [
        "# Checking for statistical biases\n",
        "fig, ((ax1, ax2),(ax3, ax4)) = plt.subplots(2, 2, figsize=(8,5))\n",
        "ax1.boxplot(dataset[\"age\"])\n",
        "ax1.set_title('age')\n",
        "ax2.boxplot(dataset[\"bmi\"])\n",
        "ax2.set_title('bmi')\n",
        "ax3.hist(dataset[\"age\"])\n",
        "ax4.hist(dataset[\"bmi\"]);"
      ],
      "metadata": {
        "id": "AiKCObKSz01V"
      },
      "execution_count": null,
      "outputs": []
    },
    {
      "cell_type": "code",
      "source": [
        "# Defining features X and label y\n",
        "X = dataset.drop(columns=['expenses'])\n",
        "y = dataset['expenses']"
      ],
      "metadata": {
        "id": "8YEsKgOaz5ia"
      },
      "execution_count": null,
      "outputs": []
    },
    {
      "cell_type": "code",
      "source": [
        "# Checking which categorical features are binary\n",
        "display(X.sex.value_counts())\n",
        "# smokers seem to be over-represented, need to get back to this after checking for \"resampling strategies for imbalanced datasets\"\n",
        "display(X.smoker.value_counts())\n",
        "display(X.region.value_counts())"
      ],
      "metadata": {
        "id": "jDNK4iCLz8qY"
      },
      "execution_count": null,
      "outputs": []
    },
    {
      "cell_type": "code",
      "source": [
        "# sex and smoker are binary and will be converted to zeros and ones\n",
        "from sklearn.preprocessing import OneHotEncoder\n",
        "display(test_dataset.head)\n",
        "binary_encoder = OneHotEncoder(sparse=False, drop='first')\n",
        "X['sex'], X['smoker'] = binary_encoder.fit_transform(X[['sex', 'smoker']]).T\n",
        "X.head()"
      ],
      "metadata": {
        "id": "vdngQicoz_yK"
      },
      "execution_count": null,
      "outputs": []
    },
    {
      "cell_type": "code",
      "source": [
        "# region has 4 categories\n",
        "display(dataset['region'].unique())\n",
        "display(test_dataset.head)\n",
        "\n",
        "cat_encoder = OneHotEncoder(sparse = False) # Instanciate encoder\n",
        "X[\"ne\"], X[\"nw\"], X['se'], X['sw'] = cat_encoder.fit_transform(X[['region']]).T\n",
        "\n",
        "X.head()"
      ],
      "metadata": {
        "id": "Efsfap4T04_o"
      },
      "execution_count": null,
      "outputs": []
    },
    {
      "cell_type": "code",
      "source": [
        "X = X.drop(columns='region')"
      ],
      "metadata": {
        "id": "RH891CdT07Ka"
      },
      "execution_count": null,
      "outputs": []
    },
    {
      "cell_type": "code",
      "source": [
        "#  Just to get an idea of results lets use a ML linear regression model.\n",
        "from sklearn.linear_model import LinearRegression\n",
        "from sklearn.model_selection import cross_validate\n",
        "\n",
        "# Instanciating the model\n",
        "model = LinearRegression()\n",
        "\n",
        "# Cross validating, fitting the model and getting score results\n",
        "cross_val_results = cross_validate(model, X, y, cv=10,\n",
        "                            scoring=['neg_mean_absolute_error'])\n",
        "cross_val_results['test_neg_mean_absolute_error'].mean()*-1 # result is not ideal...\n",
        ""
      ],
      "metadata": {
        "id": "xCx9itXb0_AB"
      },
      "execution_count": null,
      "outputs": []
    },
    {
      "cell_type": "code",
      "source": [
        "# spliting into train test sets\n",
        "from sklearn.model_selection import train_test_split\n",
        "train_dataset, test_dataset, train_labels, test_labels = train_test_split(X, y, test_size=0.2, random_state=42)\n",
        "\n"
      ],
      "metadata": {
        "id": "cS_PiZaA1Czi"
      },
      "execution_count": null,
      "outputs": []
    },
    {
      "cell_type": "code",
      "source": [
        "def build_model():\n",
        "  model = keras.Sequential([\n",
        "    layers.Dense(32, activation='relu', input_shape=[train_dataset.shape[1]]),\n",
        "    layers.Dense(64, activation='relu'),\n",
        "    layers.Dense(1)\n",
        "  ])\n",
        "\n",
        "  model.compile(loss='mse',\n",
        "                optimizer='adam',\n",
        "                metrics=['mae', 'mse'])\n",
        "  return model\n",
        "\n",
        "model = build_model()\n",
        "model.summary()"
      ],
      "metadata": {
        "id": "_zqapTqM1KHM"
      },
      "execution_count": null,
      "outputs": []
    },
    {
      "cell_type": "code",
      "source": [
        "from tensorflow.keras.callbacks import EarlyStopping\n",
        "es = EarlyStopping(patience=100, restore_best_weights=True)\n",
        "\n",
        "history = model.fit(train_dataset, train_labels,\n",
        "                    epochs=1000,\n",
        "                    validation_split = 0.2,\n",
        "                    verbose=0,\n",
        "                    callbacks=[es])"
      ],
      "metadata": {
        "id": "8vjmo7pk1MGB"
      },
      "execution_count": null,
      "outputs": []
    },
    {
      "cell_type": "code",
      "execution_count": null,
      "metadata": {
        "id": "Xe7RXH3N3CWU"
      },
      "outputs": [],
      "source": [
        "# RUN THIS CELL TO TEST YOUR MODEL. DO NOT MODIFY CONTENTS.\n",
        "# Test model by checking how well the model generalizes using the test set.\n",
        "loss, mae, mse = model.evaluate(test_dataset, test_labels, verbose=2)\n",
        "\n",
        "print(\"Testing set Mean Abs Error: {:5.2f} expenses\".format(mae))\n",
        "\n",
        "if mae < 3500:\n",
        "  print(\"You passed the challenge. Great job!\")\n",
        "else:\n",
        "  print(\"The Mean Abs Error must be less than 3500. Keep trying.\")\n",
        "\n",
        "# Plot predictions.\n",
        "test_predictions = model.predict(test_dataset).flatten()\n",
        "\n",
        "a = plt.axes(aspect='equal')\n",
        "plt.scatter(test_labels, test_predictions)\n",
        "plt.xlabel('True values (expenses)')\n",
        "plt.ylabel('Predictions (expenses)')\n",
        "lims = [0, 50000]\n",
        "plt.xlim(lims)\n",
        "plt.ylim(lims)\n",
        "_ = plt.plot(lims,lims)\n"
      ]
    },
    {
      "cell_type": "code",
      "source": [
        "_patient_900 = test_dataset[:1]\n",
        "predict_expenses_patient_900 = model.predict(_patient_900)\n",
        "display(\"Predicted Expenses: \", predict_expenses_patient_900[0,0])\n",
        "display(\"Real Expenses\", test_labels[900])"
      ],
      "metadata": {
        "id": "I9siF5iM1P2L"
      },
      "execution_count": null,
      "outputs": []
    }
  ],
  "metadata": {
    "colab": {
      "name": "fcc_predict_health_costs_with_regression.ipynb",
      "private_outputs": true,
      "provenance": []
    },
    "kernelspec": {
      "display_name": "Python 3",
      "name": "python3"
    }
  },
  "nbformat": 4,
  "nbformat_minor": 0
}